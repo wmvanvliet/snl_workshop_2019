{
 "cells": [
  {
   "cell_type": "markdown",
   "metadata": {},
   "source": [
    "<img src=\"images/charizard.png\" alt=\"Expert\" width=\"200\">\n",
    "\n",
    "# Expert level\n",
    "<img src=\"http://www.animatedgif.net/underconstruction/5consbar2_e0.gif\">\n",
    "<div style=\"border: 5px solid red; padding: 20px;\"><p>I'm currently writing the exercise for this level. It is not done yet, but it will be before the workshop begins!</p></div>\n",
    "<img src=\"http://www.animatedgif.net/underconstruction/5consbar2_e0.gif\">"
   ]
  },
  {
   "cell_type": "code",
   "execution_count": null,
   "metadata": {},
   "outputs": [],
   "source": []
  }
 ],
 "metadata": {
  "kernelspec": {
   "display_name": "Python 3",
   "language": "python",
   "name": "python3"
  },
  "language_info": {
   "codemirror_mode": {
    "name": "ipython",
    "version": 3
   },
   "file_extension": ".py",
   "mimetype": "text/x-python",
   "name": "python",
   "nbconvert_exporter": "python",
   "pygments_lexer": "ipython3",
   "version": "3.6.8"
  }
 },
 "nbformat": 4,
 "nbformat_minor": 2
}
