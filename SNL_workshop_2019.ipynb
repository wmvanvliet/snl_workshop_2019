{
 "cells": [
  {
   "cell_type": "markdown",
   "metadata": {},
   "source": [
    "# Welcome to the hands-on session!\n",
    "\n",
    "My name is [Marijn van Vliet](https://users.aalto.fi/~vanvlm1), and I'll be your guide through this hands-on exercise. Today, you will not only hear plenty of interesting talks about MEG data analysis, you also get a chance to try it for yourself! \n",
    "\n",
    "The website you are looking at right now is an [interactive Python environment](https://jupyter.org). Through this interface, your laptop is currently talking to some server in the cloud. The server holds the MEG data I've prepared for you and will do the actual computational work, sending the results back to your browser.\n",
    "\n",
    "The way we talk with the server is through Python code. That's right, you will do some programming! I'll try to guide you through everything. The learning objective will depend on the knowledge you already have. I have designed multiple paths through this exercise, grouped into three levels.\n",
    "\n",
    "We only have 45 minutes together, so let's not waste any more time and get started! Jump in at the level you like by clicking on an image below:\n",
    "\n",
    "<table>\n",
    "<tr>\n",
    "    <td><a href=\"notebooks/beginner.ipynb\"><img src=\"notebooks/images/charmander.png\" width=\"150\"></a></td>\n",
    "    <td><a href=\"notebooks/adept.ipynb\"><img src=\"notebooks/images/charmeleon.png\" width=\"150\"></a></td>\n",
    "    <td><a href=\"notebooks/expert.ipynb\"><img src=\"notebooks/images/charizard.png\" width=\"150\"></a></td>\n",
    "</tr>\n",
    "<tr>\n",
    "    <td style=\"font-size: 18pt; text-align: center\"><a href=\"notebooks/beginner.ipynb\">Beginner</a></td>\n",
    "    <td style=\"font-size: 18pt; text-align: center\"><a href=\"notebooks/adept.ipynb\">Adept</a></td>\n",
    "    <td style=\"font-size: 18pt; text-align: center\"><a href=\"notebooks/expert.ipynb\">Expert</a></td>\n",
    "</tr>\n",
    "<tr>\n",
    "    <td style=\"text-align: left\">You have never programmed before. Our learning goal will be to take our first steps into the magical world of programming, working towards <b>visualizing</b> some MEG data. After this module, you can continue on with the adept level module.</td>\n",
    "    <td style=\"text-align: left\">You have programmed before, but not necessarily in Python. Our learning goal will be to get some familiarity with how Python does things and to complete a basic <b>sensor level</b> analysis pipeline for MEG data. After this module, you can continue on with the expert level module.</td>\n",
    "    <td style=\"text-align: left\">You are already familiar with Python, or have a lot of experience using other programming languages. Our learning goal will be to complete a basic <b>source level</b> analysis pipeline for MEG data.</td>\n",
    "</tr>\n",
    "</table>"
   ]
  }
 ],
 "metadata": {
  "kernelspec": {
   "display_name": "Python 3",
   "language": "python",
   "name": "python3"
  },
  "language_info": {
   "codemirror_mode": {
    "name": "ipython",
    "version": 3
   },
   "file_extension": ".py",
   "mimetype": "text/x-python",
   "name": "python",
   "nbconvert_exporter": "python",
   "pygments_lexer": "ipython3",
   "version": "3.6.8"
  }
 },
 "nbformat": 4,
 "nbformat_minor": 2
}
