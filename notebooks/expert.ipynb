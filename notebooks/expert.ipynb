{
 "cells": [
  {
   "cell_type": "markdown",
   "metadata": {},
   "source": [
    "<img src=\"images/charizard.png\" alt=\"Expert\" width=\"200\">\n",
    "\n",
    "# Expert level\n",
    "<img src=\"http://www.animatedgif.net/underconstruction/5consbar2_e0.gif\">\n",
    "<div style=\"border: 5px solid red; padding: 20px;\"><p>I'm currently writing the exercise for this level. It is not done yet, but it will be before the workshop begins!</p></div>\n",
    "<img src=\"http://www.animatedgif.net/underconstruction/5consbar2_e0.gif\">"
   ]
  },
  {
   "cell_type": "code",
   "execution_count": null,
   "metadata": {},
   "outputs": [],
   "source": [
    "trans = mne.read_trans('data/sample-trans.fif')\n",
    "mne.viz.plot_alignment(epochs.info, trans, subject='sample', subjects_dir='data/mri')"
   ]
  },
  {
   "cell_type": "code",
   "execution_count": null,
   "metadata": {},
   "outputs": [],
   "source": [
    "src = mne.setup_source_space('sample', subjects_dir='data/mri', add_dist=False)\n",
    "src.plot(subjects_dir='data/mri')"
   ]
  },
  {
   "cell_type": "code",
   "execution_count": null,
   "metadata": {},
   "outputs": [],
   "source": [
    "bem = mne.read_bem_solution('data/mri/sample/bem/bem-sol.fif')\n",
    "mne.viz.plot_bem('sample', 'data/mri');"
   ]
  },
  {
   "cell_type": "code",
   "execution_count": null,
   "metadata": {},
   "outputs": [],
   "source": [
    "fwd = mne.make_forward_solution(epochs.info, trans, src, bem)"
   ]
  },
  {
   "cell_type": "code",
   "execution_count": null,
   "metadata": {},
   "outputs": [],
   "source": [
    "noise_cov = mne.compute_covariance(epochs, tmin=-0.2, tmax=0, method='shrunk')\n",
    "mne.viz.plot_cov(noise_cov, epochs.info);"
   ]
  },
  {
   "cell_type": "code",
   "execution_count": null,
   "metadata": {},
   "outputs": [],
   "source": [
    "from mne.minimum_norm import make_inverse_operator\n",
    "inv = make_inverse_operator(epochs.info, fwd, noise_cov)"
   ]
  },
  {
   "cell_type": "code",
   "execution_count": null,
   "metadata": {},
   "outputs": [],
   "source": [
    "from mne.minimum_norm import apply_inverse\n",
    "\n",
    "# Apply inverse solution\n",
    "snr = 3.0\n",
    "lambda2 = 1.0 / snr ** 2\n",
    "stc = apply_inverse(evoked['vl'], inv, lambda2, 'dSPM')\n",
    "\n",
    "# Plot the source estimate\n",
    "stc.plot(initial_time=0.1, hemi='both', size=400,\n",
    "         subjects_dir='data/mri',\n",
    "         views=['caudal'])"
   ]
  }
 ],
 "metadata": {
  "kernelspec": {
   "display_name": "Python 3",
   "language": "python",
   "name": "python3"
  },
  "language_info": {
   "codemirror_mode": {
    "name": "ipython",
    "version": 3
   },
   "file_extension": ".py",
   "mimetype": "text/x-python",
   "name": "python",
   "nbconvert_exporter": "python",
   "pygments_lexer": "ipython3",
   "version": "3.6.8"
  }
 },
 "nbformat": 4,
 "nbformat_minor": 2
}
