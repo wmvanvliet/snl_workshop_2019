{
 "cells": [
  {
   "cell_type": "markdown",
   "metadata": {},
   "source": [
    "<img src=\"images/charmander.png\" alt=\"Beginner\" width=\"200\">\n",
    "<img src=\"images/coffee_machine.jpeg\" width=\"300\" style=\"float: right; margin-top: 30px\">\n",
    "\n",
    "## Beginner level\n",
    "\n",
    "Welcome!\n",
    "Our goal in this module will be to let you have a taste of what programming is like.\n",
    "\n",
    "I'm going to assume that until now, all your interactions with a computer have been through a graphical user interface ([GUI](https://en.wikipedia.org/wiki/History_of_the_graphical_user_interface)).\n",
    "These interfaces completely revolutionized how we interact with computers by simplifying what is an enormously complex machine into an appliance that has only a few functions.  \n",
    "Each function can be executed by pressing a button.  \n",
    "Like it's a coffee machine.\n",
    "\n",
    "But the computer you are talking to right now is not a coffee machine.\n",
    "Once you drop the GUI mask and start interacting with the computer itself, its full potential becomes available to you!\n",
    "\n",
    "We're going to have to start from scratch. So settle in. You've got a lot to learn about programming before we can get to data visualization."
   ]
  },
  {
   "cell_type": "markdown",
   "metadata": {},
   "source": [
    "## Your first ever program\n",
    "\n",
    "Programming code is written in a programming language.\n",
    "You'll have to learn this language in order to talk with the computer.\n",
    "Don't worry though, programming languages are designed to be very easy to learn.\n",
    "For the purposes of this hands-on session, you only need to know a little of the vocabulary and grammar of a programming language called [Python](https://docs.python.org/3/tutorial/).\n",
    "\n",
    "The text you are reading now is inside a \"cell\". This notebook contains both text cells like this one, and \"code cells\" in which you can write programming code and have the computer \"execute\" it.\n",
    "\n",
    "The first thing I'm going to teach you is how to use the computer as a calculator. In a programming language, arithmetic works just as you would expect it to work. Try typing `1 + 1` in the cell below and press `Ctrl` + `Enter` (both keys on your keyboard at the same time) to execute the code.\n",
    "\n",
    "<div style=\"border: 3px solid #aaccff; margin: 10px 100px; padding: 10px\">\n",
    "    <b>Note about colors</b>\n",
    "    \n",
    "As you type in programming code in the cell below, you will notice the computer will automatically color parts of the text. These colors are purely a visual aid for you, the programmer, and have no meaning in the programming language.\n",
    "</div>"
   ]
  },
  {
   "cell_type": "code",
   "execution_count": null,
   "metadata": {},
   "outputs": [],
   "source": []
  },
  {
   "cell_type": "markdown",
   "metadata": {},
   "source": [
    "Did it work? Hopefully the computer answered back with \"2\". Phenomenal computer power at work ladies and gentlemen! In the Python language, `+`, `-`, `*`, `/` all do what you would expect them to do. For example, to compute the average of 5, 3, 7 and 10, we would write:\n",
    "```python\n",
    "(5 + 3 + 7 + 10) / 4\n",
    "```\n",
    "just like you would write it in math. Try it in the code cell above if you like."
   ]
  },
  {
   "cell_type": "markdown",
   "metadata": {},
   "source": [
    "## Variables\n",
    "\n",
    "The computer ran your little program, reported the answer back to you, and by now has forgotten all about it.\n",
    "If we wish for the computer to remember the result of a computation, so we may use it in another computation, we need to give it a name by using the `=` character. Try running the program below and you'll see what I mean:"
   ]
  },
  {
   "cell_type": "code",
   "execution_count": null,
   "metadata": {},
   "outputs": [],
   "source": [
    "x = 1\n",
    "y = 2\n",
    "z = x + y\n",
    "z * 3"
   ]
  },
  {
   "cell_type": "markdown",
   "metadata": {},
   "source": [
    "In good mathematical tradition, I've named various things `x`, `y` and `z` and re-used them in various lines of the program. You are free to choose whatever names you like, but there are some [rules](https://docs.python.org/3/reference/lexical_analysis.html#identifiers). For example, you cannot name some result `+`, since that would be very confusing. Another important restriction is that names can not have spaces. For example, `the answer` is not a valid name, but `the_answer` is (notice I used an underscore \"_\" character instead of a space, which is a common thing that programmers do).\n",
    "\n",
    "Naming things is terribly important in programming, for it bestows meaning. When you get down to it, a computer is just [a pile of carefully arranged sand](https://xkcd.com/1349) with [a rectangle of little lights](https://www.xkcd.com/722). It takes a human to bestow meaning to the patterns of light and currents of electricity flowing through the machine. Do the numbers mean sheep to barter? Nuclear missiles to fire? Thoughts in a persons brain?\n",
    "\n",
    "Your turn, mighty human. Write an elegant program to solve the following math problem:\n",
    "\n",
    "> Jan has 5 coins and Mary has 3 coins.  \n",
    "> How much coins do Jan and Mary have together?"
   ]
  },
  {
   "cell_type": "code",
   "execution_count": null,
   "metadata": {},
   "outputs": [],
   "source": []
  },
  {
   "cell_type": "markdown",
   "metadata": {},
   "source": [
    "## Functions and modules\n",
    "\n",
    "For our next program, let's do something more difficult and compute the sine of 2 (it should be around 0.9). We can't easily compute that with just `+`, `-`, `*`, and `/`.\n",
    "\n",
    "Programming languages are inspired a lot by the language of mathematics. In math, we would write the sine of 2 as:\n",
    "\n",
    "$$\\sin 2$$\n",
    "\n",
    "Where \"$\\sin$\" is a placeholder for \"use whatever method you want to compute the sine\". More formally, $\\sin$ is called a function and 2 is an argument to this function.\n",
    "\n",
    "Functions are central to programming. They are the verbs of the programming language. Once you've learned a few verbs you can say lots of things!\n",
    "\n",
    "If numbers are your raw material, functions are the tools you use to manipulate them.\n",
    "There are **tons** of functions available to you.\n",
    "So many, that to keep track of them all, they are organized in different \"modules\".\n",
    "You can think of a module as a toolbox that has a nice label on it so we know what is inside.\n",
    "The `sin` function we want to use is kept inside the `math` module.\n",
    "\n",
    "<img src=\"images/toolbox.png\" alt=\"Functions are like tools. Modules are like toolboxes\">\n",
    "\n",
    "In order for us to use the `sin` function, we must first \"import\" it from the `math` module.\n",
    "In our metaphor, importing a function is like taking a tool from a toolbox and placing it on our workbench.\n",
    "In the grammar of our programming language, you say:\n",
    "\n",
    "```python\n",
    "from math import sin\n",
    "```\n",
    "\n",
    "From that point on, the `sin` function is available for you to use. Computing the sine of two is then `sin(2)`.\n",
    "\n",
    "<img src=\"images/function.png\" alt=\"sin(2)\" width=\"400\">\n",
    "\n",
    "I've filled in the program for you below. Try running it."
   ]
  },
  {
   "cell_type": "code",
   "execution_count": null,
   "metadata": {},
   "outputs": [],
   "source": [
    "from math import sin\n",
    "sin(2)"
   ]
  },
  {
   "cell_type": "markdown",
   "metadata": {},
   "source": [
    "Your turn. Write a program that computes the cosine of 5. The function to compute the cosine is called `cos` and can also be found inside the `math` module (remember to `import` it first!). You can use the cell below to write your program in:"
   ]
  },
  {
   "cell_type": "code",
   "execution_count": null,
   "metadata": {},
   "outputs": [],
   "source": []
  },
  {
   "cell_type": "markdown",
   "metadata": {},
   "source": [
    "We can combine functions with variables. Unfortunately, the answer to the cosine of 5 you have so cleverly computed above is already gone with the wind. You can \"assign\" the result of a function to a variable, just as we did above with numbers.\n",
    "\n",
    "For example: here is how to assign the sine of 2 to a variable called `my_result`:"
   ]
  },
  {
   "cell_type": "code",
   "execution_count": null,
   "metadata": {},
   "outputs": [],
   "source": [
    "my_result = sin(2)"
   ]
  },
  {
   "cell_type": "markdown",
   "metadata": {},
   "source": [
    "Running the program above doesn't seem to work??!! Nothing happened!\n",
    "\n",
    "Actually, the program did work, but the computer is keeping silent. As we have seen, the computer will tell you the result that was produced by the last line in your program, but only if you did **not** assign that result to a variable. It was a choice made by programmers that were of the opinion that their computers were being too chatty."
   ]
  },
  {
   "cell_type": "markdown",
   "metadata": {},
   "source": [
    "<img src=\"images/printer.jpeg\" width=\"300\" style=\"float: right; margin-top: 30px\">\n",
    "\n",
    "## Explicitly telling the computer to display something\n",
    "\n",
    "There is a function that is not part of any module and is always available to you. This function will make the computer display things. It is called `print` and it writes text to the screen. It's name is a leftover from the times where computer monitors did not exist yet and the computer could only print things on paper. Funny how etymology applies to programming languages too.\n",
    "\n",
    "Anyway, here is an example of the `print` function in action:"
   ]
  },
  {
   "cell_type": "code",
   "execution_count": null,
   "metadata": {},
   "outputs": [],
   "source": [
    "my_result = sin(2)\n",
    "print(my_result)"
   ]
  },
  {
   "cell_type": "markdown",
   "metadata": {},
   "source": [
    "Ok, your turn. Write a program that assigns the cosine of 2 to the variable `my_result`. Use the `print` function to display the variable to check that it has changed."
   ]
  },
  {
   "cell_type": "code",
   "execution_count": null,
   "metadata": {},
   "outputs": [],
   "source": []
  },
  {
   "cell_type": "markdown",
   "metadata": {},
   "source": [
    "## Working with text\n",
    "\n",
    "Here is a little program that makes the computer say hello:"
   ]
  },
  {
   "cell_type": "code",
   "execution_count": null,
   "metadata": {},
   "outputs": [],
   "source": [
    "print('hello')"
   ]
  },
  {
   "cell_type": "markdown",
   "metadata": {},
   "source": [
    "In the Python programming language, literal text needs to always be surrounded by `'` quotation marks. Without quotation marks, the program above would try to display the contents of a variable named `hello`. Look at this:"
   ]
  },
  {
   "cell_type": "code",
   "execution_count": null,
   "metadata": {},
   "outputs": [],
   "source": [
    "hello = 'Hello, world!'\n",
    "print(hello)"
   ]
  },
  {
   "cell_type": "markdown",
   "metadata": {},
   "source": [
    "The `print` function can write multiple things at the same time by giving it more than one argument. To give multiple arguments, put a comma between them, like this:"
   ]
  },
  {
   "cell_type": "code",
   "execution_count": null,
   "metadata": {},
   "outputs": [],
   "source": [
    "print('The man said:', hello, 'How are you?')"
   ]
  },
  {
   "cell_type": "markdown",
   "metadata": {},
   "source": [
    "As a child, I would write little programs like this:"
   ]
  },
  {
   "cell_type": "code",
   "execution_count": null,
   "metadata": {},
   "outputs": [],
   "source": [
    "name = input('What is your name?')\n",
    "age = input('What is your age?')\n",
    "color = input('What is your favorite color?')\n",
    "pet = input('What kind of pet would you like?')\n",
    "job = input('What do you want to be when you grow up?')\n",
    "\n",
    "print('')\n",
    "print('There once was a', pet, 'named', name)\n",
    "print('Every day,', name, 'bought', age, 'bottles of lemonade.')\n",
    "print('Until one day it turned', color, 'from drinking too much.')\n",
    "print('It was rushed to the hospital by a', job)"
   ]
  },
  {
   "cell_type": "markdown",
   "metadata": {},
   "source": [
    "To familiarize yourself with manipulating text in a programming language, try modifying the program above to tell a story of your own."
   ]
  },
  {
   "cell_type": "markdown",
   "metadata": {},
   "source": [
    "## Loading some MEG data\n",
    "\n",
    "Finally! We got all the ingredients we need to use [MNE-Python](https://martinos.org/mne). Using functions, saving results to variables and re-using them. These concepts allow us to do pretty powerful things.\n",
    "\n",
    "We're going to instruct the computer to \"load\" some MEG data.\n",
    "The MEG data is currently stored as a file on the hard drive, called:  \n",
    "`data/sample-raw.fif`  \n",
    "The above \"file path\" may look weird to you if you are used to Windows.\n",
    "The computer you are talking to is a linux machine.\n",
    "Paths look a little different.\n",
    "\n",
    "To \"load\" a file means to make it available as a variable so we can use it in our programming code.\n",
    "MNE-Python has a function that we can use to do this for us.\n",
    "It's called `read_raw_fif` and it lives in the `mne.io` module.\n",
    "Executing the cell below will `import` the function for you, so you can use it.\n",
    "Importing a function will also make it available \"from now on\", also in future cells."
   ]
  },
  {
   "cell_type": "code",
   "execution_count": null,
   "metadata": {},
   "outputs": [],
   "source": [
    "from mne.io import read_raw_fif"
   ]
  },
  {
   "cell_type": "markdown",
   "metadata": {},
   "source": [
    "Now, everything you've learned so far needs to come together. I'm going to leave it up to you to use the function correctly.\n",
    "Make the computer load the MEG data and put it inside a variable called `raw`, by writing **a single line** of code.\n",
    "\n",
    "Here are some pointers to help you along:\n",
    " 1. The function you want to call is named: `read_raw_fif`. It has already been imported.\n",
    " 2. Call it with a single argument: the name of the file to load. Remember the example `sin(2)` \n",
    " 3. The name of the file to load is `data/sample-raw.fif`\n",
    " 4. The name of the file is text. Remember what you know about text and quotation `'` marks!\n",
    " 5. Assign the result to a variable with the name `raw` using the `=` symbol.\n",
    " \n",
    " Write your single line of code in the cell below:"
   ]
  },
  {
   "cell_type": "code",
   "execution_count": null,
   "metadata": {},
   "outputs": [],
   "source": []
  },
  {
   "cell_type": "markdown",
   "metadata": {},
   "source": [
    "If your code above was correct, executing the cell below will display some information about the data you've just loaded:"
   ]
  },
  {
   "cell_type": "code",
   "execution_count": null,
   "metadata": {},
   "outputs": [],
   "source": [
    "print(raw)"
   ]
  },
  {
   "cell_type": "markdown",
   "metadata": {},
   "source": [
    "## Visualizing the MEG data\n",
    "\n",
    "Now that the MEG data has been loaded into memory, we can look at it. The data is in it's \"raw\" form, meaning it has come straight out of the scanner and nothing has been done to it yet. MNE-Python has a visualization tool for data in it's raw form, called `plot_raw`. In programmer lingo, visualizing data points is referred to as \"[plotting](https://en.wikipedia.org/wiki/Plot_(graphics))\".\n",
    "\n",
    "Again, I'll write the code to `import` the `plot_raw` function for you. This time, I'm also going to add some housekeeping code that will instruct the computer to send the graphics to your browser."
   ]
  },
  {
   "cell_type": "code",
   "execution_count": null,
   "metadata": {},
   "outputs": [],
   "source": [
    "%matplotlib notebook\n",
    "print('From now on, all graphics will send to your browser.')\n",
    "\n",
    "from mne.viz import plot_raw"
   ]
  },
  {
   "cell_type": "markdown",
   "metadata": {},
   "source": [
    "It's up to you to write the code to call the function and give the `raw` variable as argument to this function. Ready? go!"
   ]
  },
  {
   "cell_type": "code",
   "execution_count": null,
   "metadata": {},
   "outputs": [],
   "source": []
  },
  {
   "cell_type": "markdown",
   "metadata": {},
   "source": [
    "If you wrote the code correctly, you should be looking at a little interface that shows the data collected on all the MEG sensors. Try using the arrow keys and clicking in the figure to explore the data."
   ]
  },
  {
   "cell_type": "markdown",
   "metadata": {},
   "source": [
    "## Continue onward to the adept level!\n",
    "\n",
    "Great job making it this far. You've taken your first steps along the path towards becoming a data analyst. Take a look at the clock. If we still have some time, I'd like to invite you to move on to the next level.\n",
    "\n",
    "<center>\n",
    "<a href=\"adept.ipynb\" alt=\"To adept level\"><img src=\"images/charmeleon.png\" width=\"200\"></a>\n",
    "<a href=\"adept.ipynb\">Move on to the adept level</a>\n",
    "</center>"
   ]
  }
 ],
 "metadata": {
  "kernelspec": {
   "display_name": "Python 3",
   "language": "python",
   "name": "python3"
  },
  "language_info": {
   "codemirror_mode": {
    "name": "ipython",
    "version": 3
   },
   "file_extension": ".py",
   "mimetype": "text/x-python",
   "name": "python",
   "nbconvert_exporter": "python",
   "pygments_lexer": "ipython3",
   "version": "3.6.8"
  }
 },
 "nbformat": 4,
 "nbformat_minor": 2
}
