{
 "cells": [
  {
   "cell_type": "markdown",
   "metadata": {},
   "source": [
    "<img src=\"images/charmeleon.png\" alt=\"Adept\" width=\"200\">\n",
    "\n",
    "# Adept level"
   ]
  },
  {
   "cell_type": "markdown",
   "metadata": {},
   "source": [
    "<img src=\"http://www.animatedgif.net/underconstruction/5consbar2_e0.gif\">\n",
    "<div style=\"border: 5px solid red; padding: 20px;\"><p>I'm currently writing the exercise for this level. It is not done yet, but it will be before the workshop begins!</p></div>\n",
    "<img src=\"http://www.animatedgif.net/underconstruction/5consbar2_e0.gif\">\n",
    "\n",
    "Welcome to the adept level!\n",
    "You have heard our previous speakers talk about continuous MEG data, epochs, evokeds, inverse solutions, etc.\n",
    "In this hands-on session, we're going to use [MNE-Python](https://martinos.org/mne) to analyze some data to see how this all works in practice.\n",
    "\n",
    "\n",
    "I'm going to assume you have some programming experience (for example, by completing the [beginners level](beginner.ipynb)), but are not necessarily familiar with the [Python](https://python.org) programming language.\n",
    "Luckily, for the purposes of this hands-on session, you only need to know a few basics:\n",
    "\n",
    " 1. How to use **variables**\n",
    " 1. How to **import** a function\n",
    " 1. How to **call** a function\n",
    " \n",
    "We will go over these things as we need them."
   ]
  },
  {
   "cell_type": "markdown",
   "metadata": {},
   "source": [
    "## The experiment\n",
    "\n",
    "I have prepared a bit of MEG data for you. It was recorded while a brave volunteer was in the scanner, listening to auditory beeps and looking at visual checkerboards. The volunteer was staring at a \"fixation cross\" in the center of a screen in front of him/her. From time to time, beeps sounded from either the left or the right side of his/her head. At other times, a checkerboard would be displayed either to the left or right side of to the cross. The volunteer was instructed to keep his/her eyes fixed on the cross and not directly look at the checkerboards. This way, the checkerboard was presented either to the left or right visual field of the volunteer.\n",
    "\n",
    "<center>\n",
    "    <img src=\"images/sound.png\" width=\"100\" style=\"display: inline; margin-right: 50px\">\n",
    "    <img src=\"images/checkerboard.png\" width=\"100\" style=\"display: inline; margin-right: 50px\">\n",
    "    <img src=\"images/cross.png\" width=\"100\" style=\"display: inline; margin-right: 50px\">\n",
    "    <img src=\"images/checkerboard.png\" width=\"100\" style=\"display: inline; margin-right: 50px\">\n",
    "    <img src=\"images/sound.png\" width=\"100\" style=\"display: inline; transform: scaleX(-1);\">\n",
    "</center>\n",
    "\n",
    "By analyzing the MEG signal, we should be able to see the activity in the auditory and visual cortices, perhaps even see a difference whether the stimulus was presented on the left or on the right side."
   ]
  },
  {
   "cell_type": "markdown",
   "metadata": {},
   "source": [
    "## Loading the data, or, how to import and call a function in Python\n",
    "\n",
    "The MEG data is stored on disk as it was produced by the Vectorview MEG scanner, namely in its \"FIF\" file format.\n",
    "We refer to this as \"raw\" data, as we haven't done anything to it yet.\n",
    "\n",
    "Loading raw MEG data into memory is easy if you know how: just call the [`read_raw_fif`](https://www.martinos.org/mne/stable/generated/mne.io.read_raw_fif.html) function and store the result in some variable.\n",
    "There's one catch though.\n",
    "Since there are **tons** of functions available to you, to keep track of them all, they are organized in different \"modules\".\n",
    "You can think of a module as a toolbox that has a nice label on it so we know what is inside.\n",
    "\n",
    "<img src=\"images/toolbox_single.png\" width=\"600\">\n",
    "\n",
    "The [`read_raw_fif`](https://www.martinos.org/mne/stable/generated/mne.io.read_raw_fif.html) function we want to use is kept inside the `io` module that itself is kept inside the `mne` module, giving it the name: `mne.io` (dots indicate \"inside of\").\n",
    "In order for us to use it, we must first \"import\" the function from the `mne.io` module.\n",
    "In our metaphor, importing a function is like taking a tool from a toolbox and placing it on our workbench.\n",
    "Here is the line of Python code that accomplishes this:\n",
    "\n",
    "```python\n",
    "from mne.io import read_raw_fif\n",
    "```\n",
    "\n",
    "From that point on, the [`read_raw_fif`](https://www.martinos.org/mne/stable/generated/mne.io.read_raw_fif.html) function is available for you to use."
   ]
  },
  {
   "cell_type": "markdown",
   "metadata": {},
   "source": [
    "Below is the code to read in the MEG data. The box it is in is called a \"cell\". To run it, click in the cell and press `Ctrl`+`Enter` (both keys at the same time) or click the \"Run\" button in the toolbar at the top of the this webpage."
   ]
  },
  {
   "cell_type": "code",
   "execution_count": null,
   "metadata": {},
   "outputs": [],
   "source": [
    "from mne.io import read_raw_fif\n",
    "raw = read_raw_fif('data/sample-raw.fif', preload=True)\n",
    "print(raw)"
   ]
  },
  {
   "cell_type": "markdown",
   "metadata": {},
   "source": [
    "## Dissecting the program above\n",
    "\n",
    "The first line of the program above imports the [`read_raw_fif`](https://www.martinos.org/mne/stable/generated/mne.io.read_raw_fif.html) function from the `mne.io` module.\n",
    "\n",
    "The second line of the program is the most complicated. A lot of stuff is going on there.\n",
    "\n",
    "<img src=\"images/function_call_explanation.png\">\n",
    "\n",
    "The [`read_raw_fif`](https://www.martinos.org/mne/stable/generated/mne.io.read_raw_fif.html) function is called with two parameters. The first parameter is a piece of text (a \"string\") containing the name of the FIF file to load. Literal text (strings) must always be enclosed in `'` quotes. The second parameter is a \"named\" parameter, which we will use a lot during this session (see below). This parameter is set to the special value `True`. Python has three special values: `True`, `False`, and `None`, which are often used to indicate \"yes\", \"no\", and \"I don't know/care\" respectively. Finally, the result is stored in a variable called `raw`.\n",
    "\n",
    "The last line of the program calls the [`print`](https://docs.python.org/3/library/functions.html#print) function, which is used to display things. Here, it is called with the `raw` variable as parameter, so it displays the data contained in this variable, namely the data we loaded with [`read_raw_fif`](https://www.martinos.org/mne/stable/generated/mne.io.read_raw_fif.html)."
   ]
  },
  {
   "cell_type": "markdown",
   "metadata": {},
   "source": [
    "## Named parameters\n",
    "\n",
    "Many functions of MNE-Python take dozens of parameters that fine-tune exactly how to perform some operation. If you had to specify them all every time you want to call a function, you'd spend ages worrying about little details and get nothing done. Luckily, Python allows us to specify default values for parameters, which means these parameter may be omitted when calling a function to use the default. In MNE-Python, most parameters have a default value, so while a function may have 20 parameters, you only have to specify one or two. The rest of the parameters are like little knobs and buttons you can use to fine tune things, or just leave alone. This allows MNE-Python to keep simple things simple, while making complicated things possible.\n",
    "\n",
    "Parameters with default values are called \"named\" parameters, and you specify them with `name=value`. The `preload` parameter that you saw in the program above is such a named parameter. It controls whether to load all of the data in memory, or only read the \"metadata\" of the file, i.e., when it was recorded, how long it is, how many sensors the MEG machine had, etc. By default, `preload=False`, meaning only the metadata is read. In the example above, we set it to `True`, indicating we wish to really load all the data in memory."
   ]
  },
  {
   "cell_type": "markdown",
   "metadata": {},
   "source": [
    "## Visualizing the data\n",
    "\n",
    "Raw data can be visualized (or \"plotted\") by the [`plot_raw`](https://www.martinos.org/mne/stable/generated/mne.viz.plot_raw.html) function that is kept inside the `mne.viz` module. It needs one parameter: the variable containing the data you wish to plot. (It also has a lot of named parameters, but you can leave them alone for now.)\n",
    "\n",
    "I'm going to let you write the visualization code, but first, there is a little housekeeping that we need to do. We need to tell the visualization engine to send the results to your browser and not attempt to open a window on the server where this code is running. Please run the cell below:"
   ]
  },
  {
   "cell_type": "code",
   "execution_count": null,
   "metadata": {},
   "outputs": [],
   "source": [
    "%matplotlib notebook\n",
    "from mayavi import mlab\n",
    "mlab.init_notebook('ipy')\n",
    "print('From now on, all graphics will send to your browser.')"
   ]
  },
  {
   "cell_type": "markdown",
   "metadata": {},
   "source": [
    "Now, it's your turn! Write the Python code that will visualize the raw MEG data we just loaded.\n",
    "Keep the following things in mind:\n",
    " 1. The function is called [`plot_raw`](https://www.martinos.org/mne/stable/generated/mne.viz.plot_raw.html) and is kept inside the `mne.viz` module. Remember to `import` to function first!\n",
    " 2. Call the function with one parameter, namely the `raw` variable we created above that contains the MEG data.\n",
    " 3. Assign the result of the [`plot_raw`](https://www.martinos.org/mne/stable/generated/mne.viz.plot_raw.html) function to a variable (pick any name you want), otherwise the figure will show twice.\n",
    " \n",
    "Use the cell below to write your code:"
   ]
  },
  {
   "cell_type": "code",
   "execution_count": null,
   "metadata": {},
   "outputs": [],
   "source": [
    "import mne\n",
    "mne.set_config('MNE_BROWSE_RAW_SIZE', '9.5, 10')"
   ]
  },
  {
   "cell_type": "code",
   "execution_count": null,
   "metadata": {},
   "outputs": [],
   "source": [
    "from mne.viz import plot_raw\n",
    "fig = plot_raw(raw)"
   ]
  },
  {
   "cell_type": "markdown",
   "metadata": {},
   "source": [
    "If you wrote the code correctly, you should be looking at a little interface that shows the data collected on all the MEG sensors. Try using the arrow keys and clicking in the figure to explore the data."
   ]
  },
  {
   "cell_type": "code",
   "execution_count": null,
   "metadata": {},
   "outputs": [],
   "source": [
    "import mne"
   ]
  },
  {
   "cell_type": "code",
   "execution_count": null,
   "metadata": {},
   "outputs": [],
   "source": [
    "raw.pick_channels(['STI 001'])"
   ]
  },
  {
   "cell_type": "code",
   "execution_count": null,
   "metadata": {},
   "outputs": [],
   "source": [
    "from mne import find_events\n",
    "events = mne.find_events(raw, stim_channel='STI 014')"
   ]
  },
  {
   "cell_type": "code",
   "execution_count": null,
   "metadata": {},
   "outputs": [],
   "source": [
    "fig = plot_raw(raw, events=events)"
   ]
  },
  {
   "cell_type": "code",
   "execution_count": null,
   "metadata": {
    "slideshow": {
     "slide_type": "slide"
    }
   },
   "outputs": [],
   "source": [
    "from mne import Epochs\n",
    "from mne import pick_types\n",
    "picks = pick_types(raw.info, meg='mag')\n",
    "epochs = Epochs(raw, events, event_id=dict(al=1, ar=2, vl=3, vr=4), tmin=-0.2, tmax=0.5, baseline=(-0.2, 0), picks=picks)\n",
    "fig = epochs.plot()"
   ]
  },
  {
   "cell_type": "code",
   "execution_count": null,
   "metadata": {
    "slideshow": {
     "slide_type": "slide"
    }
   },
   "outputs": [],
   "source": [
    "from mne.viz import plot_compare_evokeds\n",
    "evoked = {cl:epochs[cl].average() for cl in epochs.event_id.keys()}\n",
    "fig = plot_compare_evokeds(evoked, show_legend='upper left')"
   ]
  },
  {
   "cell_type": "code",
   "execution_count": null,
   "metadata": {
    "scrolled": false
   },
   "outputs": [],
   "source": [
    "trans = mne.read_trans('data/sample-trans.fif')\n",
    "mne.viz.plot_alignment(epochs.info, trans, subject='sample', subjects_dir='data/mri')"
   ]
  },
  {
   "cell_type": "code",
   "execution_count": null,
   "metadata": {},
   "outputs": [],
   "source": [
    "src = mne.setup_source_space('sample', subjects_dir='data/mri', add_dist=False)\n",
    "src.plot(subjects_dir='data/mri')"
   ]
  },
  {
   "cell_type": "code",
   "execution_count": null,
   "metadata": {},
   "outputs": [],
   "source": [
    "bem = mne.read_bem_solution('data/mri/sample/bem/bem-sol.fif')\n",
    "mne.viz.plot_bem('sample', 'data/mri');"
   ]
  },
  {
   "cell_type": "code",
   "execution_count": null,
   "metadata": {},
   "outputs": [],
   "source": [
    "fwd = mne.make_forward_solution(epochs.info, trans, src, bem)"
   ]
  },
  {
   "cell_type": "code",
   "execution_count": null,
   "metadata": {},
   "outputs": [],
   "source": [
    "noise_cov = mne.compute_covariance(epochs, tmin=-0.2, tmax=0, method='shrunk')\n",
    "mne.viz.plot_cov(noise_cov, epochs.info);"
   ]
  },
  {
   "cell_type": "code",
   "execution_count": null,
   "metadata": {},
   "outputs": [],
   "source": [
    "from mne.minimum_norm import make_inverse_operator\n",
    "inv = make_inverse_operator(epochs.info, fwd, noise_cov)"
   ]
  },
  {
   "cell_type": "code",
   "execution_count": null,
   "metadata": {
    "slideshow": {
     "slide_type": "slide"
    }
   },
   "outputs": [],
   "source": [
    "from mne.minimum_norm import apply_inverse\n",
    "\n",
    "# Apply inverse solution\n",
    "snr = 3.0\n",
    "lambda2 = 1.0 / snr ** 2\n",
    "stc = apply_inverse(evoked['vl'], inv, lambda2, 'dSPM')\n",
    "\n",
    "# Plot the source estimate\n",
    "stc.plot(initial_time=0.1, hemi='both', size=400,\n",
    "         subjects_dir='data/mri',\n",
    "         views=['caudal'])"
   ]
  },
  {
   "cell_type": "code",
   "execution_count": null,
   "metadata": {},
   "outputs": [],
   "source": []
  }
 ],
 "metadata": {
  "kernelspec": {
   "display_name": "Python 3",
   "language": "python",
   "name": "python3"
  },
  "language_info": {
   "codemirror_mode": {
    "name": "ipython",
    "version": 3
   },
   "file_extension": ".py",
   "mimetype": "text/x-python",
   "name": "python",
   "nbconvert_exporter": "python",
   "pygments_lexer": "ipython3",
   "version": "3.6.8"
  }
 },
 "nbformat": 4,
 "nbformat_minor": 2
}
